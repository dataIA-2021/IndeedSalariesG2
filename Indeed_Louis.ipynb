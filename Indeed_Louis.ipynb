{
 "cells": [
  {
   "cell_type": "code",
   "execution_count": 23,
   "id": "98613fdc",
   "metadata": {},
   "outputs": [],
   "source": [
    "import pandas as pd\n",
    "import numpy as np\n",
    "import matplotlib.pyplot as plt\n",
    "import seaborn as sb\n",
    "import time\n",
    "import re"
   ]
  },
  {
   "cell_type": "code",
   "execution_count": 24,
   "id": "8e778144",
   "metadata": {},
   "outputs": [],
   "source": [
    "df = pd.read_csv('Indeed_Salaries.csv')"
   ]
  },
  {
   "cell_type": "code",
   "execution_count": 25,
   "id": "ea47ac06",
   "metadata": {},
   "outputs": [
    {
     "data": {
      "text/html": [
       "<div>\n",
       "<style scoped>\n",
       "    .dataframe tbody tr th:only-of-type {\n",
       "        vertical-align: middle;\n",
       "    }\n",
       "\n",
       "    .dataframe tbody tr th {\n",
       "        vertical-align: top;\n",
       "    }\n",
       "\n",
       "    .dataframe thead th {\n",
       "        text-align: right;\n",
       "    }\n",
       "</style>\n",
       "<table border=\"1\" class=\"dataframe\">\n",
       "  <thead>\n",
       "    <tr style=\"text-align: right;\">\n",
       "      <th></th>\n",
       "      <th>Lien</th>\n",
       "      <th>Poste</th>\n",
       "      <th>Entreprise</th>\n",
       "      <th>Localisation</th>\n",
       "      <th>Salaire</th>\n",
       "      <th>Description</th>\n",
       "    </tr>\n",
       "  </thead>\n",
       "  <tbody>\n",
       "    <tr>\n",
       "      <th>0</th>\n",
       "      <td>https://fr.indeed.com/viewjob?jk=5b2e4528626a2c37</td>\n",
       "      <td>Ingénieur-e données</td>\n",
       "      <td>INRAE</td>\n",
       "      <td>37380 Nouzilly</td>\n",
       "      <td>NaN</td>\n",
       "      <td>RÉFÉRENCE DE L'OFFRE\\nN° profil : IE22-DISO-1\\...</td>\n",
       "    </tr>\n",
       "    <tr>\n",
       "      <th>1</th>\n",
       "      <td>https://fr.indeed.com/viewjob?jk=a25ddcc7a0af8396</td>\n",
       "      <td>Ingénieur-e données</td>\n",
       "      <td>il y a 1 jour</td>\n",
       "      <td>Nouzilly (37)</td>\n",
       "      <td>NaN</td>\n",
       "      <td>Acteur majeur de la recherche publique, INRAE ...</td>\n",
       "    </tr>\n",
       "    <tr>\n",
       "      <th>2</th>\n",
       "      <td>https://fr.indeed.com/viewjob?jk=ba5c2f88b0176120</td>\n",
       "      <td>TECHNICIEN EN GESTION DE DONNEES TECHNIQUES SA...</td>\n",
       "      <td>Interaction</td>\n",
       "      <td>41500 Mer</td>\n",
       "      <td>NaN</td>\n",
       "      <td>Votre mission :\\n\\nL'agence INTERACTION ORLEAN...</td>\n",
       "    </tr>\n",
       "    <tr>\n",
       "      <th>3</th>\n",
       "      <td>https://fr.indeed.com/viewjob?jk=d1fa73c363aa27d0</td>\n",
       "      <td>Master Data Specialist / Spécialiste Base Arti...</td>\n",
       "      <td>Apec.fr</td>\n",
       "      <td>Beaune-la-Rolande (45)</td>\n",
       "      <td>NaN</td>\n",
       "      <td>Master Data Specialist / Spécialiste Base Arti...</td>\n",
       "    </tr>\n",
       "    <tr>\n",
       "      <th>4</th>\n",
       "      <td>https://fr.indeed.com/viewjob?jk=6f7788bc07e79181</td>\n",
       "      <td>Gestionnaire de Base de Données (h/f)</td>\n",
       "      <td>Adecco</td>\n",
       "      <td>37300 Joué-lés-Tours</td>\n",
       "      <td>NaN</td>\n",
       "      <td>Votre mission\\n Adecco Tours Tertiaire recherc...</td>\n",
       "    </tr>\n",
       "    <tr>\n",
       "      <th>...</th>\n",
       "      <td>...</td>\n",
       "      <td>...</td>\n",
       "      <td>...</td>\n",
       "      <td>...</td>\n",
       "      <td>...</td>\n",
       "      <td>...</td>\n",
       "    </tr>\n",
       "    <tr>\n",
       "      <th>95</th>\n",
       "      <td>https://fr.indeed.com/viewjob?jk=77f7cba3dbf84aec</td>\n",
       "      <td>Développeur bi - chef de projet data h/f</td>\n",
       "      <td>Keljob</td>\n",
       "      <td>37200 Tours</td>\n",
       "      <td>NaN</td>\n",
       "      <td>Intégré au sein de la DSI et en collaboration ...</td>\n",
       "    </tr>\n",
       "    <tr>\n",
       "      <th>96</th>\n",
       "      <td>https://fr.indeed.com/viewjob?jk=64b77218b3eaadca</td>\n",
       "      <td>Ingénieur Data - Big Data - Banque - Île-de-Fr...</td>\n",
       "      <td>Sopra Steria</td>\n",
       "      <td>Télétravail temporaire</td>\n",
       "      <td>NaN</td>\n",
       "      <td>Sopra Steria, l'un des leaders européens du co...</td>\n",
       "    </tr>\n",
       "    <tr>\n",
       "      <th>97</th>\n",
       "      <td>https://fr.indeed.com/viewjob?jk=cd63a920e41752b1</td>\n",
       "      <td>Gestionnaire données techniques H/F</td>\n",
       "      <td>LesJeudis.com</td>\n",
       "      <td>18000 Bourges</td>\n",
       "      <td>40 000 € par an</td>\n",
       "      <td>Hays Technology recherche pour son client, un ...</td>\n",
       "    </tr>\n",
       "    <tr>\n",
       "      <th>98</th>\n",
       "      <td>https://fr.indeed.com/viewjob?jk=0917709a71688dfa</td>\n",
       "      <td>Data Scientist (h/f), Tours</td>\n",
       "      <td>Adecco</td>\n",
       "      <td>Tours (37)</td>\n",
       "      <td>45 000 € par an</td>\n",
       "      <td>Votre mission\\nA la recherche de nouvelles aff...</td>\n",
       "    </tr>\n",
       "    <tr>\n",
       "      <th>99</th>\n",
       "      <td>https://fr.indeed.com/viewjob?jk=14ba9f3c4d7a05e6</td>\n",
       "      <td>Data Analyst (F/M/X) - CDI</td>\n",
       "      <td>Jellysmack</td>\n",
       "      <td>France</td>\n",
       "      <td>NaN</td>\n",
       "      <td>Jellysmack is the global creator company that ...</td>\n",
       "    </tr>\n",
       "  </tbody>\n",
       "</table>\n",
       "<p>100 rows × 6 columns</p>\n",
       "</div>"
      ],
      "text/plain": [
       "                                                 Lien  \\\n",
       "0   https://fr.indeed.com/viewjob?jk=5b2e4528626a2c37   \n",
       "1   https://fr.indeed.com/viewjob?jk=a25ddcc7a0af8396   \n",
       "2   https://fr.indeed.com/viewjob?jk=ba5c2f88b0176120   \n",
       "3   https://fr.indeed.com/viewjob?jk=d1fa73c363aa27d0   \n",
       "4   https://fr.indeed.com/viewjob?jk=6f7788bc07e79181   \n",
       "..                                                ...   \n",
       "95  https://fr.indeed.com/viewjob?jk=77f7cba3dbf84aec   \n",
       "96  https://fr.indeed.com/viewjob?jk=64b77218b3eaadca   \n",
       "97  https://fr.indeed.com/viewjob?jk=cd63a920e41752b1   \n",
       "98  https://fr.indeed.com/viewjob?jk=0917709a71688dfa   \n",
       "99  https://fr.indeed.com/viewjob?jk=14ba9f3c4d7a05e6   \n",
       "\n",
       "                                                Poste     Entreprise  \\\n",
       "0                                 Ingénieur-e données          INRAE   \n",
       "1                                 Ingénieur-e données  il y a 1 jour   \n",
       "2   TECHNICIEN EN GESTION DE DONNEES TECHNIQUES SA...    Interaction   \n",
       "3   Master Data Specialist / Spécialiste Base Arti...        Apec.fr   \n",
       "4               Gestionnaire de Base de Données (h/f)         Adecco   \n",
       "..                                                ...            ...   \n",
       "95           Développeur bi - chef de projet data h/f         Keljob   \n",
       "96  Ingénieur Data - Big Data - Banque - Île-de-Fr...   Sopra Steria   \n",
       "97                Gestionnaire données techniques H/F  LesJeudis.com   \n",
       "98                        Data Scientist (h/f), Tours         Adecco   \n",
       "99                         Data Analyst (F/M/X) - CDI     Jellysmack   \n",
       "\n",
       "              Localisation          Salaire  \\\n",
       "0           37380 Nouzilly              NaN   \n",
       "1            Nouzilly (37)              NaN   \n",
       "2                41500 Mer              NaN   \n",
       "3   Beaune-la-Rolande (45)              NaN   \n",
       "4     37300 Joué-lés-Tours              NaN   \n",
       "..                     ...              ...   \n",
       "95             37200 Tours              NaN   \n",
       "96  Télétravail temporaire              NaN   \n",
       "97           18000 Bourges  40 000 € par an   \n",
       "98              Tours (37)  45 000 € par an   \n",
       "99                  France              NaN   \n",
       "\n",
       "                                          Description  \n",
       "0   RÉFÉRENCE DE L'OFFRE\\nN° profil : IE22-DISO-1\\...  \n",
       "1   Acteur majeur de la recherche publique, INRAE ...  \n",
       "2   Votre mission :\\n\\nL'agence INTERACTION ORLEAN...  \n",
       "3   Master Data Specialist / Spécialiste Base Arti...  \n",
       "4   Votre mission\\n Adecco Tours Tertiaire recherc...  \n",
       "..                                                ...  \n",
       "95  Intégré au sein de la DSI et en collaboration ...  \n",
       "96  Sopra Steria, l'un des leaders européens du co...  \n",
       "97  Hays Technology recherche pour son client, un ...  \n",
       "98  Votre mission\\nA la recherche de nouvelles aff...  \n",
       "99  Jellysmack is the global creator company that ...  \n",
       "\n",
       "[100 rows x 6 columns]"
      ]
     },
     "execution_count": 25,
     "metadata": {},
     "output_type": "execute_result"
    }
   ],
   "source": [
    "df.head(100)"
   ]
  },
  {
   "cell_type": "code",
   "execution_count": 47,
   "id": "9b888de7",
   "metadata": {},
   "outputs": [
    {
     "ename": "IndentationError",
     "evalue": "expected an indented block (Temp/ipykernel_6916/3926157232.py, line 11)",
     "output_type": "error",
     "traceback": [
      "\u001b[1;36m  File \u001b[1;32m\"C:\\Users\\Greta\\AppData\\Local\\Temp/ipykernel_6916/3926157232.py\"\u001b[1;36m, line \u001b[1;32m11\u001b[0m\n\u001b[1;33m    elif cdd.append((len(re.findall(r\"INTERIM\",df['Description'][k], re.IGNORECASE))))\u001b[0m\n\u001b[1;37m    ^\u001b[0m\n\u001b[1;31mIndentationError\u001b[0m\u001b[1;31m:\u001b[0m expected an indented block\n"
     ]
    }
   ],
   "source": [
    "cdi = []\n",
    "cdd = []\n",
    "interim = []\n",
    "alternant = []\n",
    "stage = []\n",
    "\n",
    "\n",
    "\n",
    "for k in df.index:\n",
    "    if cdi.append(((re.findall(r\"CDI\",df['Description'][k], re.IGNORECASE)))):\n",
    "    elif cdd.append((len(re.findall(r\"INTERIM\",df['Description'][k], re.IGNORECASE))))\n",
    "    else: append(NaN)\n",
    "        \n",
    "        #elif cdd.append((len(re.findall(r\"INTERIM\",df['Description'][k], re.IGNORECASE)))):\n",
    "    \n",
    "    #elif interim.append((len(re.findall(r\"ALTERNANT\",df['Description'][k], re.IGNORECASE)))):\n",
    "    \n",
    "    #elif alternant.append((len(re.findall(r\"CDD\",df['Description'][k], re.IGNORECASE)))):\n",
    "    \n",
    "    #elif stage.append((len(re.findall(r\"STAGE\",df['Description'][k], re.IGNORECASE)))):\n",
    "    \n",
    "    #else append(NaN)\n",
    "\n",
    "#print(pd.Series(type_contrat).value_counts())\n",
    "df['cdi'] = pd.Series(cdi)\n",
    "df['interim'] = pd.Series(interim)\n",
    "#df['cdd'] = pd.Series(cdd)\n",
    "#df['alternant'] = pd.Series(alternant)\n",
    "#df['stage'] = pd.Series(stage)\n",
    "df.head()"
   ]
  },
  {
   "cell_type": "code",
   "execution_count": 49,
   "id": "c36d11bd",
   "metadata": {},
   "outputs": [
    {
     "data": {
      "text/plain": [
       "'Isaac Newton'"
      ]
     },
     "execution_count": 49,
     "metadata": {},
     "output_type": "execute_result"
    }
   ],
   "source": [
    "m = re.match(r\"(\\w+) (\\w+)\", \"Isaac Newton, physicist\")\n",
    "m[0]     \n",
    "\n"
   ]
  },
  {
   "cell_type": "code",
   "execution_count": 50,
   "id": "e77802eb",
   "metadata": {},
   "outputs": [
    {
     "data": {
      "text/plain": [
       "'Isaac'"
      ]
     },
     "execution_count": 50,
     "metadata": {},
     "output_type": "execute_result"
    }
   ],
   "source": [
    "m[1]"
   ]
  },
  {
   "cell_type": "code",
   "execution_count": null,
   "id": "2cd2525c",
   "metadata": {},
   "outputs": [],
   "source": []
  }
 ],
 "metadata": {
  "kernelspec": {
   "display_name": "Python 3 (ipykernel)",
   "language": "python",
   "name": "python3"
  },
  "language_info": {
   "codemirror_mode": {
    "name": "ipython",
    "version": 3
   },
   "file_extension": ".py",
   "mimetype": "text/x-python",
   "name": "python",
   "nbconvert_exporter": "python",
   "pygments_lexer": "ipython3",
   "version": "3.9.7"
  }
 },
 "nbformat": 4,
 "nbformat_minor": 5
}
