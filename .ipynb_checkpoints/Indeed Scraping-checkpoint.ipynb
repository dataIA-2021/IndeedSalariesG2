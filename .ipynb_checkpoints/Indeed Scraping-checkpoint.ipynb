{
 "cells": [
  {
   "cell_type": "code",
   "execution_count": 4,
   "id": "e2cdae93",
   "metadata": {},
   "outputs": [],
   "source": [
    "import csv\n",
    "from datetime import datetime\n",
    "import requests\n",
    "from bs4 import BeautifulSoup\n",
    "import pandas as pd"
   ]
  },
  {
   "cell_type": "code",
   "execution_count": 2,
   "id": "c0a6c941",
   "metadata": {},
   "outputs": [],
   "source": [
    "def get_url(job, location):\n",
    "    \"\"\"Generate an URL from Job and Location\"\"\"\n",
    "    template = 'https://fr.indeed.com/jobs?q={}&l={}'\n",
    "    url = template.format(job, location)\n",
    "    return(url)"
   ]
  },
  {
   "cell_type": "code",
   "execution_count": 3,
   "id": "c0879237",
   "metadata": {},
   "outputs": [
    {
     "data": {
      "text/plain": [
       "'https://fr.indeed.com/jobs?q=Data&l=Centre-Val%20de%20Loire'"
      ]
     },
     "execution_count": 3,
     "metadata": {},
     "output_type": "execute_result"
    }
   ],
   "source": [
    "query = 'Data'\n",
    "loc = 'Centre-Val%20de%20Loire'\n",
    "\n",
    "url = get_url(query, loc)\n",
    "url"
   ]
  },
  {
   "cell_type": "markdown",
   "id": "781379da",
   "metadata": {},
   "source": [
    "## Extract Raw HTML"
   ]
  },
  {
   "cell_type": "code",
   "execution_count": 121,
   "id": "f5b60173",
   "metadata": {},
   "outputs": [
    {
     "data": {
      "text/plain": [
       "<Response [200]>"
      ]
     },
     "execution_count": 121,
     "metadata": {},
     "output_type": "execute_result"
    }
   ],
   "source": [
    "response = requests.get(url)\n",
    "response"
   ]
  },
  {
   "cell_type": "code",
   "execution_count": 122,
   "id": "0410c682",
   "metadata": {
    "scrolled": true
   },
   "outputs": [],
   "source": [
    "soup = BeautifulSoup(response.text, 'html.parser')"
   ]
  },
  {
   "cell_type": "code",
   "execution_count": 123,
   "id": "b541f1d8",
   "metadata": {},
   "outputs": [
    {
     "data": {
      "text/plain": [
       "15"
      ]
     },
     "execution_count": 123,
     "metadata": {},
     "output_type": "execute_result"
    }
   ],
   "source": [
    "cards = soup.find_all('div', 'job_seen_beacon')\n",
    "len(cards)"
   ]
  },
  {
   "cell_type": "markdown",
   "id": "f5939bd8",
   "metadata": {},
   "source": [
    "## Test de récupération des intitulés des offres"
   ]
  },
  {
   "cell_type": "code",
   "execution_count": 124,
   "id": "f34ff236",
   "metadata": {
    "scrolled": false
   },
   "outputs": [
    {
     "data": {
      "text/plain": [
       "<div class=\"job_seen_beacon\"><table cellpadding=\"0\" cellspacing=\"0\" class=\"jobCard_mainContent\" role=\"presentation\"><tbody><tr><td class=\"resultContent\"><div class=\"heading4 color-text-primary singleLineTitle tapItem-gutter\"><h2 class=\"jobTitle jobTitle-color-purple\"><span title=\"Data Manager (usine)\">Data Manager (usine)</span></h2></div><div class=\"heading6 company_location tapItem-gutter companyInfo\"><span class=\"companyName\"><a class=\"turnstileLink companyOverviewLink\" data-tn-element=\"companyName\" href=\"/cmp/Eaton\" rel=\"noopener\" target=\"_blank\">EATON</a></span><span class=\"ratingsDisplay withRatingLink\"><a class=\"ratingLink\" data-tn-variant=\"cmplinktst2\" href=\"/cmp/Eaton/reviews\" rel=\"noopener\" target=\"_blank\" title=\"EATON reviews\"><span aria-label=\"3,7 of stars rating\" class=\"ratingNumber\" role=\"img\"><span aria-hidden=\"true\">3,7</span><svg aria-hidden=\"true\" class=\"starIcon\" fill=\"none\" height=\"12\" role=\"presentation\" viewbox=\"0 0 16 16\" width=\"12\" xmlns=\"http://www.w3.org/2000/svg\"><path d=\"M8 12.8709L12.4542 15.5593C12.7807 15.7563 13.1835 15.4636 13.0968 15.0922L11.9148 10.0254L15.8505 6.61581C16.1388 6.36608 15.9847 5.89257 15.6047 5.86033L10.423 5.42072L8.39696 0.640342C8.24839 0.289808 7.7516 0.289808 7.60303 0.640341L5.57696 5.42072L0.395297 5.86033C0.015274 5.89257 -0.13882 6.36608 0.149443 6.61581L4.0852 10.0254L2.90318 15.0922C2.81653 15.4636 3.21932 15.7563 3.54584 15.5593L8 12.8709Z\" fill=\"#767676\"></path></svg></span></a></span><div class=\"companyLocation\">Nouan-le-Fuzelier (41)</div></div><div class=\"heading6 error-text tapItem-gutter\"></div></td></tr></tbody></table><table class=\"jobCardShelfContainer\" role=\"presentation\"><tbody><tr class=\"jobCardShelf\"></tr><tr class=\"underShelfFooter\"><td><div class=\"heading6 tapItem-gutter result-footer\"><div class=\"job-snippet\"><ul style=\"list-style-type:circle;margin-top: 0px;margin-bottom: 0px;padding-left:20px;\">\n",
       "<li style=\"margin-bottom:0px;\">Measure and audit / police <b>data</b> accuracy in order to achieve complete <b>data</b> accuracy.</li>\n",
       "<li>Developing the necessary <b>data</b> management skills, disciplines and procedures…</li>\n",
       "</ul></div><span class=\"date\"><span class=\"visually-hidden\">Posted</span>il y a 30+ jours</span></div></td></tr></tbody></table><div aria-live=\"polite\"></div></div>"
      ]
     },
     "execution_count": 124,
     "metadata": {},
     "output_type": "execute_result"
    }
   ],
   "source": [
    "cards[0]"
   ]
  },
  {
   "cell_type": "code",
   "execution_count": 125,
   "id": "48aecd73",
   "metadata": {},
   "outputs": [
    {
     "data": {
      "text/plain": [
       "['Data Manager (usine)',\n",
       " 'Data Manager Clinique Confirmé H/F',\n",
       " 'Chef de projet DATA / Freelance',\n",
       " 'Data Analyst H/F',\n",
       " 'Data scientist h/f',\n",
       " 'Développeur décisionnel et Big Data F/H',\n",
       " 'Data Analyst',\n",
       " 'Développeur bi - chef de projet data h/f',\n",
       " 'Data Analyst F/H',\n",
       " 'Data Engineer',\n",
       " 'Data scientist H/F (IT)',\n",
       " 'DATA ENGINEER H/F',\n",
       " 'Technicien informatique Data Center (H/F)',\n",
       " 'Data Engineer F/H',\n",
       " 'RESPONSABLE DATA-MANAGEMENT']"
      ]
     },
     "execution_count": 125,
     "metadata": {},
     "output_type": "execute_result"
    }
   ],
   "source": [
    "titre = []\n",
    "for k in cards:\n",
    "    tag = k.h2.find_all('span')\n",
    "    if len(tag) != 1:\n",
    "        title = tag[1]\n",
    "    else: title = tag[0]\n",
    "    titre.append(title['title'])\n",
    "titre"
   ]
  },
  {
   "cell_type": "markdown",
   "id": "1b5d7d4f",
   "metadata": {},
   "source": [
    "# Liens"
   ]
  },
  {
   "cell_type": "code",
   "execution_count": 148,
   "id": "cf89d855",
   "metadata": {},
   "outputs": [
    {
     "data": {
      "text/plain": [
       "['https://fr.indeed.com/emplois?q=Data&l=Centre-Val+de+Loire&sort=date&filter=0&start=0',\n",
       " 'https://fr.indeed.com/emplois?q=Data&l=Centre-Val+de+Loire&sort=date&filter=0&start=10',\n",
       " 'https://fr.indeed.com/emplois?q=Data&l=Centre-Val+de+Loire&sort=date&filter=0&start=20',\n",
       " 'https://fr.indeed.com/emplois?q=Data&l=Centre-Val+de+Loire&sort=date&filter=0&start=30',\n",
       " 'https://fr.indeed.com/emplois?q=Data&l=Centre-Val+de+Loire&sort=date&filter=0&start=40',\n",
       " 'https://fr.indeed.com/emplois?q=Data&l=Centre-Val+de+Loire&sort=date&filter=0&start=50',\n",
       " 'https://fr.indeed.com/emplois?q=Data&l=Centre-Val+de+Loire&sort=date&filter=0&start=60',\n",
       " 'https://fr.indeed.com/emplois?q=Data&l=Centre-Val+de+Loire&sort=date&filter=0&start=70',\n",
       " 'https://fr.indeed.com/emplois?q=Data&l=Centre-Val+de+Loire&sort=date&filter=0&start=80']"
      ]
     },
     "execution_count": 148,
     "metadata": {},
     "output_type": "execute_result"
    }
   ],
   "source": [
    "base_url = 'https://fr.indeed.com/emplois?q=Data&l=Centre-Val+de+Loire&sort=date&filter=0'\n",
    "home_url = []\n",
    "for k in range(0, 81, 10):\n",
    "    home_url.append(base_url + '&start=' + str(k))\n",
    "home_url"
   ]
  },
  {
   "cell_type": "code",
   "execution_count": 291,
   "id": "bcf4a056",
   "metadata": {},
   "outputs": [],
   "source": [
    "soup = BeautifulSoup(response.text, 'html.parser')\n",
    "cards = soup.find('div', 'mosaic-provider-jobcards')\n",
    "cards"
   ]
  },
  {
   "cell_type": "code",
   "execution_count": 136,
   "id": "c6278180",
   "metadata": {},
   "outputs": [
    {
     "data": {
      "text/plain": [
       "(15,\n",
       " ['758cfc1893cac913',\n",
       "  '845928d7e9f716e8',\n",
       "  'de372ba90e161d50',\n",
       "  '44da7f4fabcba13c',\n",
       "  '42b16956665ad440',\n",
       "  '866fcdb3235fef6e',\n",
       "  'a17e6a7d7f9adb2e',\n",
       "  '8967021279e95706',\n",
       "  '77f7cba3dbf84aec',\n",
       "  'b94d544f79c5e584',\n",
       "  '4e167cfbd43a1764',\n",
       "  '9f1c24c8e7e397af',\n",
       "  '9d8890177b894fdc',\n",
       "  'b06c8d340854d044',\n",
       "  '57739a34398227ed'])"
      ]
     },
     "execution_count": 136,
     "metadata": {},
     "output_type": "execute_result"
    }
   ],
   "source": [
    "card = soup.find_all('a')\n",
    "id = []\n",
    "for k in card:\n",
    "    if 'data-jk' in k.attrs:\n",
    "        id.append(k.attrs['data-jk'])\n",
    "len(id), id"
   ]
  },
  {
   "cell_type": "code",
   "execution_count": 138,
   "id": "6fa145aa",
   "metadata": {},
   "outputs": [
    {
     "data": {
      "text/plain": [
       "['https://fr.indeed.com/viewjob?jk=758cfc1893cac913',\n",
       " 'https://fr.indeed.com/viewjob?jk=845928d7e9f716e8',\n",
       " 'https://fr.indeed.com/viewjob?jk=de372ba90e161d50',\n",
       " 'https://fr.indeed.com/viewjob?jk=44da7f4fabcba13c',\n",
       " 'https://fr.indeed.com/viewjob?jk=42b16956665ad440',\n",
       " 'https://fr.indeed.com/viewjob?jk=866fcdb3235fef6e',\n",
       " 'https://fr.indeed.com/viewjob?jk=a17e6a7d7f9adb2e',\n",
       " 'https://fr.indeed.com/viewjob?jk=8967021279e95706',\n",
       " 'https://fr.indeed.com/viewjob?jk=77f7cba3dbf84aec',\n",
       " 'https://fr.indeed.com/viewjob?jk=b94d544f79c5e584',\n",
       " 'https://fr.indeed.com/viewjob?jk=4e167cfbd43a1764',\n",
       " 'https://fr.indeed.com/viewjob?jk=9f1c24c8e7e397af',\n",
       " 'https://fr.indeed.com/viewjob?jk=9d8890177b894fdc',\n",
       " 'https://fr.indeed.com/viewjob?jk=b06c8d340854d044',\n",
       " 'https://fr.indeed.com/viewjob?jk=57739a34398227ed']"
      ]
     },
     "execution_count": 138,
     "metadata": {},
     "output_type": "execute_result"
    }
   ],
   "source": [
    "racine_url = 'https://fr.indeed.com/viewjob?jk='\n",
    "URL = []\n",
    "for k in id:\n",
    "    URL.append(racine_url+k)\n",
    "    \n",
    "URL"
   ]
  },
  {
   "cell_type": "code",
   "execution_count": 131,
   "id": "9a973e17",
   "metadata": {},
   "outputs": [
    {
     "data": {
      "text/plain": [
       "[]"
      ]
     },
     "execution_count": 131,
     "metadata": {},
     "output_type": "execute_result"
    }
   ],
   "source": [
    "card = soup.find_all('a[data-jk]')\n",
    "card"
   ]
  },
  {
   "cell_type": "code",
   "execution_count": 20,
   "id": "6811c71b",
   "metadata": {},
   "outputs": [],
   "source": [
    "import csv\n",
    "from datetime import datetime\n",
    "import requests\n",
    "from bs4 import BeautifulSoup\n",
    "import pandas as pd\n",
    "\n",
    "def recup_urls():\n",
    "    \"\"\"\n",
    "    Returns\n",
    "    -------\n",
    "    links : List\n",
    "        Liste contenant les liens présents sur les 10 premières pages de la recherche Data, Centre-Val-de-Loire.\n",
    "    \"\"\"\n",
    "    base_url = 'https://fr.indeed.com/emplois?q=Data&l=Centre-Val+de+Loire&sort=date&filter=0'\n",
    "    home_url = []\n",
    "\n",
    "    for k in range(0, 91, 10):\n",
    "        home_url.append(base_url + '&start=' + str(k))\n",
    "\n",
    "    links = []\n",
    "    root_url = 'https://fr.indeed.com/viewjob?jk='\n",
    "\n",
    "    for URL in home_url:\n",
    "        response = requests.get(URL)    \n",
    "        card = BeautifulSoup(response.text, 'html.parser').find_all('a')\n",
    "        for k in card:\n",
    "            if 'data-jk' in k.attrs:\n",
    "                if (root_url + (k.attrs['data-jk'])) not in links:\n",
    "                    links.append(root_url + (k.attrs['data-jk']))\n",
    "    return(links)"
   ]
  },
  {
   "cell_type": "code",
   "execution_count": 21,
   "id": "dc50e22f",
   "metadata": {},
   "outputs": [
    {
     "data": {
      "text/plain": [
       "(113,\n",
       " ['https://fr.indeed.com/viewjob?jk=5b2e4528626a2c37',\n",
       "  'https://fr.indeed.com/viewjob?jk=a25ddcc7a0af8396',\n",
       "  'https://fr.indeed.com/viewjob?jk=ba5c2f88b0176120',\n",
       "  'https://fr.indeed.com/viewjob?jk=d1fa73c363aa27d0',\n",
       "  'https://fr.indeed.com/viewjob?jk=6f7788bc07e79181',\n",
       "  'https://fr.indeed.com/viewjob?jk=fbbdd347848cec7e',\n",
       "  'https://fr.indeed.com/viewjob?jk=866fcdb3235fef6e',\n",
       "  'https://fr.indeed.com/viewjob?jk=b94d544f79c5e584',\n",
       "  'https://fr.indeed.com/viewjob?jk=50aca5cbf81cc201',\n",
       "  'https://fr.indeed.com/viewjob?jk=4d41a1a3de8973d1',\n",
       "  'https://fr.indeed.com/viewjob?jk=b1e6e8a5b68b296b',\n",
       "  'https://fr.indeed.com/viewjob?jk=693d73a58599ab1c',\n",
       "  'https://fr.indeed.com/viewjob?jk=b48099092ca1d8e2',\n",
       "  'https://fr.indeed.com/viewjob?jk=dd0b0d1ead377d0c',\n",
       "  'https://fr.indeed.com/viewjob?jk=de372ba90e161d50',\n",
       "  'https://fr.indeed.com/viewjob?jk=9d8890177b894fdc',\n",
       "  'https://fr.indeed.com/viewjob?jk=04eb44777b8841c6',\n",
       "  'https://fr.indeed.com/viewjob?jk=4e167cfbd43a1764',\n",
       "  'https://fr.indeed.com/viewjob?jk=6aa665d9f0061296',\n",
       "  'https://fr.indeed.com/viewjob?jk=a2fa5cd502a472a2',\n",
       "  'https://fr.indeed.com/viewjob?jk=f906fac82eb78b9a',\n",
       "  'https://fr.indeed.com/viewjob?jk=4d983f2bb9102f56',\n",
       "  'https://fr.indeed.com/viewjob?jk=a1ba64bb8d73fb7a',\n",
       "  'https://fr.indeed.com/viewjob?jk=395811338f93e1f2',\n",
       "  'https://fr.indeed.com/viewjob?jk=749fa9dfefc90f6e',\n",
       "  'https://fr.indeed.com/viewjob?jk=9d345f049cdc5939',\n",
       "  'https://fr.indeed.com/viewjob?jk=39e0fba45d3d7c6c',\n",
       "  'https://fr.indeed.com/viewjob?jk=9f1c24c8e7e397af',\n",
       "  'https://fr.indeed.com/viewjob?jk=2a4985e67236e9a4',\n",
       "  'https://fr.indeed.com/viewjob?jk=88131431267d3d65',\n",
       "  'https://fr.indeed.com/viewjob?jk=160958cc2ebb808b',\n",
       "  'https://fr.indeed.com/viewjob?jk=a1326589160a4066',\n",
       "  'https://fr.indeed.com/viewjob?jk=1f66314670c31c6b',\n",
       "  'https://fr.indeed.com/viewjob?jk=247bc3e475abf62a',\n",
       "  'https://fr.indeed.com/viewjob?jk=16ca354ff1238880',\n",
       "  'https://fr.indeed.com/viewjob?jk=3d069cafcd204b8f',\n",
       "  'https://fr.indeed.com/viewjob?jk=57739a34398227ed',\n",
       "  'https://fr.indeed.com/viewjob?jk=c3e36b1d2db0c627',\n",
       "  'https://fr.indeed.com/viewjob?jk=cdcc4696ee751c53',\n",
       "  'https://fr.indeed.com/viewjob?jk=02870de677813b6a',\n",
       "  'https://fr.indeed.com/viewjob?jk=e17eb3f98a954578',\n",
       "  'https://fr.indeed.com/viewjob?jk=165af668ca7619ad',\n",
       "  'https://fr.indeed.com/viewjob?jk=355deffa659bfa5b',\n",
       "  'https://fr.indeed.com/viewjob?jk=44da7f4fabcba13c',\n",
       "  'https://fr.indeed.com/viewjob?jk=fc7133978a00388f',\n",
       "  'https://fr.indeed.com/viewjob?jk=d6f21a3d5f785d92',\n",
       "  'https://fr.indeed.com/viewjob?jk=8badbf4257f65f4d',\n",
       "  'https://fr.indeed.com/viewjob?jk=91fa7cf9b1938e99',\n",
       "  'https://fr.indeed.com/viewjob?jk=445d83c670faec94',\n",
       "  'https://fr.indeed.com/viewjob?jk=f0f21a4079194fb1',\n",
       "  'https://fr.indeed.com/viewjob?jk=a076747028050d4a',\n",
       "  'https://fr.indeed.com/viewjob?jk=36b07dde1f9ce3fa',\n",
       "  'https://fr.indeed.com/viewjob?jk=42b16956665ad440',\n",
       "  'https://fr.indeed.com/viewjob?jk=8967021279e95706',\n",
       "  'https://fr.indeed.com/viewjob?jk=04b65fff82897968',\n",
       "  'https://fr.indeed.com/viewjob?jk=0af8f8ba8ae6aa09',\n",
       "  'https://fr.indeed.com/viewjob?jk=622377b6f2a10957',\n",
       "  'https://fr.indeed.com/viewjob?jk=ab7c2050538b9402',\n",
       "  'https://fr.indeed.com/viewjob?jk=6f30a7dfb563150f',\n",
       "  'https://fr.indeed.com/viewjob?jk=18fd1c2e914946fc',\n",
       "  'https://fr.indeed.com/viewjob?jk=243ef9664e331c73',\n",
       "  'https://fr.indeed.com/viewjob?jk=b38f4ab213c0b1d0',\n",
       "  'https://fr.indeed.com/viewjob?jk=1021737176a07f93',\n",
       "  'https://fr.indeed.com/viewjob?jk=cc390bd1046ebd3e',\n",
       "  'https://fr.indeed.com/viewjob?jk=b06c8d340854d044',\n",
       "  'https://fr.indeed.com/viewjob?jk=55d593a56e066f12',\n",
       "  'https://fr.indeed.com/viewjob?jk=b5ea714d56461004',\n",
       "  'https://fr.indeed.com/viewjob?jk=6ef64aeda29b11e6',\n",
       "  'https://fr.indeed.com/viewjob?jk=c8af6487d3a6cbe3',\n",
       "  'https://fr.indeed.com/viewjob?jk=f4faf36bbce2cda4',\n",
       "  'https://fr.indeed.com/viewjob?jk=0d1b785311a47fa3',\n",
       "  'https://fr.indeed.com/viewjob?jk=1f2e1fa56a228be0',\n",
       "  'https://fr.indeed.com/viewjob?jk=1e1a32ecdd155b32',\n",
       "  'https://fr.indeed.com/viewjob?jk=a17e6a7d7f9adb2e',\n",
       "  'https://fr.indeed.com/viewjob?jk=40cadbac129b1b48',\n",
       "  'https://fr.indeed.com/viewjob?jk=0fbf71247b1e52a5',\n",
       "  'https://fr.indeed.com/viewjob?jk=343d04553b61b651',\n",
       "  'https://fr.indeed.com/viewjob?jk=3ddd3341821a5206',\n",
       "  'https://fr.indeed.com/viewjob?jk=303e6dcbdc43d02d',\n",
       "  'https://fr.indeed.com/viewjob?jk=845928d7e9f716e8',\n",
       "  'https://fr.indeed.com/viewjob?jk=7c8a657f6fc4761e',\n",
       "  'https://fr.indeed.com/viewjob?jk=535344f3cdbf02e9',\n",
       "  'https://fr.indeed.com/viewjob?jk=8477f342c2dae5ae',\n",
       "  'https://fr.indeed.com/viewjob?jk=66624b69c4f8f48e',\n",
       "  'https://fr.indeed.com/viewjob?jk=c2a19d57d63e9bc9',\n",
       "  'https://fr.indeed.com/viewjob?jk=94ebf6ad5b9f5be0',\n",
       "  'https://fr.indeed.com/viewjob?jk=ce9cba2a65276482',\n",
       "  'https://fr.indeed.com/viewjob?jk=850b398711c2a7e3',\n",
       "  'https://fr.indeed.com/viewjob?jk=2c51b3d7df084709',\n",
       "  'https://fr.indeed.com/viewjob?jk=736956961ce542fd',\n",
       "  'https://fr.indeed.com/viewjob?jk=d34071497bb57649',\n",
       "  'https://fr.indeed.com/viewjob?jk=040b886d3371d251',\n",
       "  'https://fr.indeed.com/viewjob?jk=93d1f71d54ff7238',\n",
       "  'https://fr.indeed.com/viewjob?jk=4e00ca58065f77cd',\n",
       "  'https://fr.indeed.com/viewjob?jk=5031d6df8768d5a4',\n",
       "  'https://fr.indeed.com/viewjob?jk=77f7cba3dbf84aec',\n",
       "  'https://fr.indeed.com/viewjob?jk=64b77218b3eaadca',\n",
       "  'https://fr.indeed.com/viewjob?jk=cd63a920e41752b1',\n",
       "  'https://fr.indeed.com/viewjob?jk=0917709a71688dfa',\n",
       "  'https://fr.indeed.com/viewjob?jk=14ba9f3c4d7a05e6',\n",
       "  'https://fr.indeed.com/viewjob?jk=cf833215bb1ebe91',\n",
       "  'https://fr.indeed.com/viewjob?jk=f12ee86bbb76acfc',\n",
       "  'https://fr.indeed.com/viewjob?jk=5e7e595d0be18ced',\n",
       "  'https://fr.indeed.com/viewjob?jk=758cfc1893cac913',\n",
       "  'https://fr.indeed.com/viewjob?jk=c644775c9eacfb40',\n",
       "  'https://fr.indeed.com/viewjob?jk=485ec93543270256',\n",
       "  'https://fr.indeed.com/viewjob?jk=22b5d4b624b3425c',\n",
       "  'https://fr.indeed.com/viewjob?jk=5bedb6d78a2d9486',\n",
       "  'https://fr.indeed.com/viewjob?jk=0c4454f31cf2ebe7',\n",
       "  'https://fr.indeed.com/viewjob?jk=9a5cfca2c8b55cac',\n",
       "  'https://fr.indeed.com/viewjob?jk=f28e995b8813aded',\n",
       "  'https://fr.indeed.com/viewjob?jk=fb8a33c83287bcbf',\n",
       "  'https://fr.indeed.com/viewjob?jk=ca85d5315b7a2582'],\n",
       " [67,\n",
       "  90,\n",
       "  90,\n",
       "  91,\n",
       "  91,\n",
       "  93,\n",
       "  94,\n",
       "  95,\n",
       "  100,\n",
       "  102,\n",
       "  102,\n",
       "  105,\n",
       "  108,\n",
       "  108,\n",
       "  108,\n",
       "  108,\n",
       "  108,\n",
       "  109,\n",
       "  109,\n",
       "  109,\n",
       "  109,\n",
       "  111,\n",
       "  112,\n",
       "  113,\n",
       "  113])"
      ]
     },
     "execution_count": 21,
     "metadata": {},
     "output_type": "execute_result"
    }
   ],
   "source": [
    "links = []\n",
    "nlinks = []\n",
    "\n",
    "for k in range(25):\n",
    "    links += recup_urls()\n",
    "    links = list(dict.fromkeys(links))\n",
    "    nlinks.append(len(links))\n",
    "    \n",
    "len(links), links, nlinks                  "
   ]
  },
  {
   "cell_type": "code",
   "execution_count": 85,
   "id": "da2b0a3c",
   "metadata": {
    "scrolled": false
   },
   "outputs": [
    {
     "data": {
      "text/html": [
       "<div>\n",
       "<style scoped>\n",
       "    .dataframe tbody tr th:only-of-type {\n",
       "        vertical-align: middle;\n",
       "    }\n",
       "\n",
       "    .dataframe tbody tr th {\n",
       "        vertical-align: top;\n",
       "    }\n",
       "\n",
       "    .dataframe thead th {\n",
       "        text-align: right;\n",
       "    }\n",
       "</style>\n",
       "<table border=\"1\" class=\"dataframe\">\n",
       "  <thead>\n",
       "    <tr style=\"text-align: right;\">\n",
       "      <th></th>\n",
       "      <th>Lien</th>\n",
       "      <th>Poste</th>\n",
       "      <th>Entreprise</th>\n",
       "      <th>Localisation</th>\n",
       "      <th>Salaire</th>\n",
       "      <th>Description</th>\n",
       "    </tr>\n",
       "  </thead>\n",
       "  <tbody>\n",
       "    <tr>\n",
       "      <th>0</th>\n",
       "      <td>https://fr.indeed.com/viewjob?jk=5b2e4528626a2c37</td>\n",
       "      <td>Ingénieur-e données</td>\n",
       "      <td>INRAE</td>\n",
       "      <td>37380 Nouzilly</td>\n",
       "      <td>NA</td>\n",
       "      <td>RÉFÉRENCE DE L'OFFRE\\nN° profil : IE22-DISO-1\\...</td>\n",
       "    </tr>\n",
       "    <tr>\n",
       "      <th>1</th>\n",
       "      <td>https://fr.indeed.com/viewjob?jk=a25ddcc7a0af8396</td>\n",
       "      <td>Ingénieur-e données</td>\n",
       "      <td>il y a 1 jour</td>\n",
       "      <td>Nouzilly (37)</td>\n",
       "      <td>NA</td>\n",
       "      <td>Acteur majeur de la recherche publique, INRAE ...</td>\n",
       "    </tr>\n",
       "    <tr>\n",
       "      <th>2</th>\n",
       "      <td>https://fr.indeed.com/viewjob?jk=ba5c2f88b0176120</td>\n",
       "      <td>TECHNICIEN EN GESTION DE DONNEES TECHNIQUES SA...</td>\n",
       "      <td>Interaction</td>\n",
       "      <td>41500 Mer</td>\n",
       "      <td>NA</td>\n",
       "      <td>Votre mission :\\n\\nL'agence INTERACTION ORLEAN...</td>\n",
       "    </tr>\n",
       "    <tr>\n",
       "      <th>3</th>\n",
       "      <td>https://fr.indeed.com/viewjob?jk=d1fa73c363aa27d0</td>\n",
       "      <td>Master Data Specialist / Spécialiste Base Arti...</td>\n",
       "      <td>Apec.fr</td>\n",
       "      <td>Beaune-la-Rolande (45)</td>\n",
       "      <td>NA</td>\n",
       "      <td>Master Data Specialist / Spécialiste Base Arti...</td>\n",
       "    </tr>\n",
       "    <tr>\n",
       "      <th>4</th>\n",
       "      <td>https://fr.indeed.com/viewjob?jk=6f7788bc07e79181</td>\n",
       "      <td>Gestionnaire de Base de Données (h/f)</td>\n",
       "      <td>Adecco</td>\n",
       "      <td>37300 Joué-lés-Tours</td>\n",
       "      <td>NA</td>\n",
       "      <td>Votre mission\\n Adecco Tours Tertiaire recherc...</td>\n",
       "    </tr>\n",
       "  </tbody>\n",
       "</table>\n",
       "</div>"
      ],
      "text/plain": [
       "                                                Lien  \\\n",
       "0  https://fr.indeed.com/viewjob?jk=5b2e4528626a2c37   \n",
       "1  https://fr.indeed.com/viewjob?jk=a25ddcc7a0af8396   \n",
       "2  https://fr.indeed.com/viewjob?jk=ba5c2f88b0176120   \n",
       "3  https://fr.indeed.com/viewjob?jk=d1fa73c363aa27d0   \n",
       "4  https://fr.indeed.com/viewjob?jk=6f7788bc07e79181   \n",
       "\n",
       "                                               Poste     Entreprise  \\\n",
       "0                                Ingénieur-e données          INRAE   \n",
       "1                                Ingénieur-e données  il y a 1 jour   \n",
       "2  TECHNICIEN EN GESTION DE DONNEES TECHNIQUES SA...    Interaction   \n",
       "3  Master Data Specialist / Spécialiste Base Arti...        Apec.fr   \n",
       "4              Gestionnaire de Base de Données (h/f)         Adecco   \n",
       "\n",
       "             Localisation Salaire  \\\n",
       "0          37380 Nouzilly      NA   \n",
       "1           Nouzilly (37)      NA   \n",
       "2               41500 Mer      NA   \n",
       "3  Beaune-la-Rolande (45)      NA   \n",
       "4    37300 Joué-lés-Tours      NA   \n",
       "\n",
       "                                         Description  \n",
       "0  RÉFÉRENCE DE L'OFFRE\\nN° profil : IE22-DISO-1\\...  \n",
       "1  Acteur majeur de la recherche publique, INRAE ...  \n",
       "2  Votre mission :\\n\\nL'agence INTERACTION ORLEAN...  \n",
       "3  Master Data Specialist / Spécialiste Base Arti...  \n",
       "4  Votre mission\\n Adecco Tours Tertiaire recherc...  "
      ]
     },
     "execution_count": 85,
     "metadata": {},
     "output_type": "execute_result"
    }
   ],
   "source": [
    "def scrap_job(link_list):\n",
    "    \"\"\"\n",
    "    Parameters\n",
    "    ----------\n",
    "    link_list : list\n",
    "        Liste de str contenant la liste des liens individuels des différentes offres du site\n",
    "\n",
    "    Returns\n",
    "    -------\n",
    "    df : Pandas.Dataframe\n",
    "        Dataframe composé des champs Titre, Entreprise, Localisation et Salaire\n",
    "    \"\"\"\n",
    "    titre = []\n",
    "    entreprise = []\n",
    "    localisation = []\n",
    "    salaire = []\n",
    "    description = []\n",
    "    for link in link_list:\n",
    "        response = requests.get(link)    \n",
    "        soup = BeautifulSoup(response.text, 'html.parser')\n",
    "        \n",
    "        try:titre.append(soup.find('h1').get_text())\n",
    "        except:titre.append('NA')    \n",
    "        \n",
    "        try:entreprise.append(soup.find('div', 'jobsearch-JobMetadataFooter').div.get_text())\n",
    "        except:entreprise.append('NA')\n",
    "            \n",
    "        try:localisation.append(soup.find('div','icl-u-xs-mt--xs icl-u-textColor--secondary jobsearch-JobInfoHeader-subtitle jobsearch-DesktopStickyContainer-subtitle').find_all('div')[-2].get_text())\n",
    "        except:localisation.append('NA')\n",
    "        \n",
    "        \n",
    "        try: salaire.append(soup.find('span', 'icl-u-xs-mr--xs attribute_snippet').get_text())\n",
    "        except:salaire.append('NA')\n",
    "        \n",
    "        try: description.append(soup.find(id=\"jobDescriptionText\").get_text())\n",
    "        except:description.append('NA')\n",
    "    \n",
    "    Lien = pd.Series(link_list)\n",
    "    Titre = pd.Series(titre)\n",
    "    Entreprise = pd.Series(entreprise)\n",
    "    Localisation = pd.Series(localisation)\n",
    "    Salaire = pd.Series(salaire)\n",
    "    Description = pd.Series(description)\n",
    "    frame = {'Lien': Lien,\n",
    "             'Poste': Titre,\n",
    "             'Entreprise': Entreprise,\n",
    "             'Localisation':Localisation,\n",
    "             'Salaire':Salaire,\n",
    "             'Description':Description}\n",
    "  \n",
    "    df = pd.DataFrame(frame)\n",
    "    return(df)\n",
    "    \n",
    "df = scrap_job(links)\n",
    "df.head()"
   ]
  },
  {
   "cell_type": "code",
   "execution_count": 27,
   "id": "5a53f3fe",
   "metadata": {},
   "outputs": [
    {
     "data": {
      "text/html": [
       "<div>\n",
       "<style scoped>\n",
       "    .dataframe tbody tr th:only-of-type {\n",
       "        vertical-align: middle;\n",
       "    }\n",
       "\n",
       "    .dataframe tbody tr th {\n",
       "        vertical-align: top;\n",
       "    }\n",
       "\n",
       "    .dataframe thead th {\n",
       "        text-align: right;\n",
       "    }\n",
       "</style>\n",
       "<table border=\"1\" class=\"dataframe\">\n",
       "  <thead>\n",
       "    <tr style=\"text-align: right;\">\n",
       "      <th></th>\n",
       "      <th>Poste</th>\n",
       "      <th>Entreprise</th>\n",
       "      <th>Localisation</th>\n",
       "      <th>Salaire</th>\n",
       "      <th>Description</th>\n",
       "    </tr>\n",
       "  </thead>\n",
       "  <tbody>\n",
       "    <tr>\n",
       "      <th>0</th>\n",
       "      <td>Ingénieur-e données</td>\n",
       "      <td>01 30 83 34 44</td>\n",
       "      <td>NA</td>\n",
       "      <td>NA</td>\n",
       "      <td>RÉFÉRENCE DE L'OFFRE\\nN° profil : IE22-DISO-1\\...</td>\n",
       "    </tr>\n",
       "    <tr>\n",
       "      <th>1</th>\n",
       "      <td>Ingénieur-e données</td>\n",
       "      <td>Continuer pour postuler</td>\n",
       "      <td>NA</td>\n",
       "      <td>NA</td>\n",
       "      <td>Acteur majeur de la recherche publique, INRAE ...</td>\n",
       "    </tr>\n",
       "    <tr>\n",
       "      <th>2</th>\n",
       "      <td>TECHNICIEN EN GESTION DE DONNEES TECHNIQUES SA...</td>\n",
       "      <td>INTERACTION ORLEANS</td>\n",
       "      <td>41500 Mer</td>\n",
       "      <td>NA</td>\n",
       "      <td>Votre mission :\\n\\nL'agence INTERACTION ORLEAN...</td>\n",
       "    </tr>\n",
       "    <tr>\n",
       "      <th>3</th>\n",
       "      <td>Master Data Specialist / Spécialiste Base Arti...</td>\n",
       "      <td>continuer pour postuler</td>\n",
       "      <td>NA</td>\n",
       "      <td>NA</td>\n",
       "      <td>Master Data Specialist / Spécialiste Base Arti...</td>\n",
       "    </tr>\n",
       "    <tr>\n",
       "      <th>4</th>\n",
       "      <td>Gestionnaire de Base de Données (h/f)</td>\n",
       "      <td>Adecco</td>\n",
       "      <td>37300 Joué-lés-Tours</td>\n",
       "      <td>NA</td>\n",
       "      <td>Votre mission\\n Adecco Tours Tertiaire recherc...</td>\n",
       "    </tr>\n",
       "  </tbody>\n",
       "</table>\n",
       "</div>"
      ],
      "text/plain": [
       "                                               Poste               Entreprise  \\\n",
       "0                                Ingénieur-e données           01 30 83 34 44   \n",
       "1                                Ingénieur-e données  Continuer pour postuler   \n",
       "2  TECHNICIEN EN GESTION DE DONNEES TECHNIQUES SA...      INTERACTION ORLEANS   \n",
       "3  Master Data Specialist / Spécialiste Base Arti...  continuer pour postuler   \n",
       "4              Gestionnaire de Base de Données (h/f)                   Adecco   \n",
       "\n",
       "           Localisation Salaire  \\\n",
       "0                    NA      NA   \n",
       "1                    NA      NA   \n",
       "2             41500 Mer      NA   \n",
       "3                    NA      NA   \n",
       "4  37300 Joué-lés-Tours      NA   \n",
       "\n",
       "                                         Description  \n",
       "0  RÉFÉRENCE DE L'OFFRE\\nN° profil : IE22-DISO-1\\...  \n",
       "1  Acteur majeur de la recherche publique, INRAE ...  \n",
       "2  Votre mission :\\n\\nL'agence INTERACTION ORLEAN...  \n",
       "3  Master Data Specialist / Spécialiste Base Arti...  \n",
       "4  Votre mission\\n Adecco Tours Tertiaire recherc...  "
      ]
     },
     "execution_count": 27,
     "metadata": {},
     "output_type": "execute_result"
    }
   ],
   "source": [
    "df.head()"
   ]
  },
  {
   "cell_type": "code",
   "execution_count": 86,
   "id": "36903327",
   "metadata": {},
   "outputs": [],
   "source": [
    "df.to_csv('Indeed_Salaries.csv', index = False)"
   ]
  },
  {
   "cell_type": "code",
   "execution_count": 74,
   "id": "09e84845",
   "metadata": {},
   "outputs": [],
   "source": [
    "response = requests.get('https://fr.indeed.com/voir-emploi?jk=a1326589160a4066')\n",
    "response2 = requests.get('https://fr.indeed.com/voir-emploi?jk=5e3c7f4dae101b66')\n",
    "soup = BeautifulSoup(response2.text, 'html.parser')"
   ]
  }
 ],
 "metadata": {
  "kernelspec": {
   "display_name": "Python 3 (ipykernel)",
   "language": "python",
   "name": "python3"
  },
  "language_info": {
   "codemirror_mode": {
    "name": "ipython",
    "version": 3
   },
   "file_extension": ".py",
   "mimetype": "text/x-python",
   "name": "python",
   "nbconvert_exporter": "python",
   "pygments_lexer": "ipython3",
   "version": "3.9.7"
  }
 },
 "nbformat": 4,
 "nbformat_minor": 5
}
